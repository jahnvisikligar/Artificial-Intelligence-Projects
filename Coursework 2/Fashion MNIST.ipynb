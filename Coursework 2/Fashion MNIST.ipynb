{
  "cells": [
    {
      "cell_type": "markdown",
      "metadata": {
        "id": "view-in-github",
        "colab_type": "text"
      },
      "source": [
        "<a href=\"https://colab.research.google.com/github/jahnvisikligar/QMUL-AI/blob/main/AI_CW2_Question2.ipynb\" target=\"_parent\"><img src=\"https://colab.research.google.com/assets/colab-badge.svg\" alt=\"Open In Colab\"/></a>"
      ]
    },
    {
      "cell_type": "markdown",
      "metadata": {
        "id": "QFU3x7Bmse0Y"
      },
      "source": [
        "# Fashion MNIST Classification"
      ]
    },
    {
      "cell_type": "markdown",
      "metadata": {
        "id": "fPEspTzUse0a"
      },
      "source": [
        "The libraries are imported and data is loaded in the following cell."
      ]
    },
    {
      "cell_type": "code",
      "execution_count": null,
      "metadata": {
        "colab": {
          "base_uri": "https://localhost:8080/",
          "height": 436,
          "referenced_widgets": [
            "8d22957ae2834121be149bee5f7d5f93",
            "4d9a47921827431a8ac3b48e66be18c3",
            "04476d4ad0ca45b18e6f4cf9d33c430a",
            "33cb65eedd1646599a127e05c4bc500b",
            "36570ca05a894cd3a14922d2e502b72f",
            "22748d5673604a20b6b1a2c6a755d971",
            "6874dfbfb85b460d96252b1cc0fc531b",
            "c600584484fb45d2b802472c4c6d29ff",
            "55f424d538044dfb85c8c1ac36c962c9",
            "c349d1d8a9b347228b5c749d6d8fb204",
            "01d7f2aaaa33498da0b1bae6943dc776",
            "46af3c70c4c944ddbde0262b0f9e1689",
            "e52be2985b224632b3bc9249458815d7",
            "8a0d3672e150457badbcc775647b8eb9",
            "f2f862eddb17495aa6c68bc072455888",
            "ceefdc695f1543828e46d438492308d2",
            "a58901587021494b95bd812a84e484e2",
            "57af96be30914978a1bc232e73df3abc",
            "2674083d71994ce58a147ac0e8b22641",
            "b64c5af9d0b34f608c32c6b5a8d9ce81",
            "3db9cc1bf865405c99dd527b71b20d4c",
            "5ad79a1e270a4c67a868723d16f738a3",
            "0dd1b80a7d404827af31d768a4465cca",
            "1e1ccffc51444a14b0e1b4c9cae1aaba",
            "8fcdd1416a9f466f8fd6c195438a9345",
            "f7fc4f50887347a2a7f3ab38775f69ce",
            "43fe714e1ac6449c99db4f7e866d3520",
            "a9e0588747cd40ccab020c0b5216f195",
            "e8b716d227f54499b705d4b3e81d49f7",
            "1f76c5e486fb4036b211f354b83a1dae",
            "951ccbef28e34776aaa299a717dc6fc9",
            "587bb4418fdf4bbc8aa559b685eca7a9",
            "4232b020fab14abe94bc1b394048151f",
            "0ab4a869e1ac457a9e946e1290a89701",
            "3dbcee6346c647988656e15337e78654",
            "2bb7d8dc3aa94d1e880ac408040ab01d",
            "3d5f4d8bb4bc450099d902ab9fad6dd7",
            "fbc0dfd2917142f3adf7af5c05118848",
            "400ff42d7aae49fea65df526368f31c6",
            "e0851b9d15704233a29dc516122ba3c4",
            "98d97314693f4114a367a2fb7ebf2a15",
            "b21329f6118c4988b56c6102ca2bb18d",
            "1441fb6426db414c92502736403aa6ac",
            "4a49f698a0bf4839830c451e53092fd9"
          ]
        },
        "id": "4EZnEMXLI9qt",
        "outputId": "629ab94c-2c6a-4f37-cbc8-b907036855ce"
      },
      "outputs": [
        {
          "output_type": "stream",
          "name": "stdout",
          "text": [
            "Downloading http://fashion-mnist.s3-website.eu-central-1.amazonaws.com/train-images-idx3-ubyte.gz\n",
            "Downloading http://fashion-mnist.s3-website.eu-central-1.amazonaws.com/train-images-idx3-ubyte.gz to ./FashionMNIST/raw/train-images-idx3-ubyte.gz\n"
          ]
        },
        {
          "output_type": "display_data",
          "data": {
            "application/vnd.jupyter.widget-view+json": {
              "model_id": "8d22957ae2834121be149bee5f7d5f93",
              "version_minor": 0,
              "version_major": 2
            },
            "text/plain": [
              "  0%|          | 0/26421880 [00:00<?, ?it/s]"
            ]
          },
          "metadata": {}
        },
        {
          "output_type": "stream",
          "name": "stdout",
          "text": [
            "Extracting ./FashionMNIST/raw/train-images-idx3-ubyte.gz to ./FashionMNIST/raw\n",
            "\n",
            "Downloading http://fashion-mnist.s3-website.eu-central-1.amazonaws.com/train-labels-idx1-ubyte.gz\n",
            "Downloading http://fashion-mnist.s3-website.eu-central-1.amazonaws.com/train-labels-idx1-ubyte.gz to ./FashionMNIST/raw/train-labels-idx1-ubyte.gz\n"
          ]
        },
        {
          "output_type": "display_data",
          "data": {
            "application/vnd.jupyter.widget-view+json": {
              "model_id": "46af3c70c4c944ddbde0262b0f9e1689",
              "version_minor": 0,
              "version_major": 2
            },
            "text/plain": [
              "  0%|          | 0/29515 [00:00<?, ?it/s]"
            ]
          },
          "metadata": {}
        },
        {
          "output_type": "stream",
          "name": "stdout",
          "text": [
            "Extracting ./FashionMNIST/raw/train-labels-idx1-ubyte.gz to ./FashionMNIST/raw\n",
            "\n",
            "Downloading http://fashion-mnist.s3-website.eu-central-1.amazonaws.com/t10k-images-idx3-ubyte.gz\n",
            "Downloading http://fashion-mnist.s3-website.eu-central-1.amazonaws.com/t10k-images-idx3-ubyte.gz to ./FashionMNIST/raw/t10k-images-idx3-ubyte.gz\n"
          ]
        },
        {
          "output_type": "display_data",
          "data": {
            "application/vnd.jupyter.widget-view+json": {
              "model_id": "0dd1b80a7d404827af31d768a4465cca",
              "version_minor": 0,
              "version_major": 2
            },
            "text/plain": [
              "  0%|          | 0/4422102 [00:00<?, ?it/s]"
            ]
          },
          "metadata": {}
        },
        {
          "output_type": "stream",
          "name": "stdout",
          "text": [
            "Extracting ./FashionMNIST/raw/t10k-images-idx3-ubyte.gz to ./FashionMNIST/raw\n",
            "\n",
            "Downloading http://fashion-mnist.s3-website.eu-central-1.amazonaws.com/t10k-labels-idx1-ubyte.gz\n",
            "Downloading http://fashion-mnist.s3-website.eu-central-1.amazonaws.com/t10k-labels-idx1-ubyte.gz to ./FashionMNIST/raw/t10k-labels-idx1-ubyte.gz\n"
          ]
        },
        {
          "output_type": "display_data",
          "data": {
            "application/vnd.jupyter.widget-view+json": {
              "model_id": "0ab4a869e1ac457a9e946e1290a89701",
              "version_minor": 0,
              "version_major": 2
            },
            "text/plain": [
              "  0%|          | 0/5148 [00:00<?, ?it/s]"
            ]
          },
          "metadata": {}
        },
        {
          "output_type": "stream",
          "name": "stdout",
          "text": [
            "Extracting ./FashionMNIST/raw/t10k-labels-idx1-ubyte.gz to ./FashionMNIST/raw\n",
            "\n"
          ]
        }
      ],
      "source": [
        "import torch\n",
        "import torchvision\n",
        "import torchvision.transforms as transforms\n",
        "import torch.nn as nn\n",
        "import torch.nn.functional as F\n",
        "import torch.optim as optim\n",
        "from torch.autograd import Variable\n",
        "from torch.utils import data as D\n",
        "import time\n",
        "\n",
        "import matplotlib.pyplot as plt\n",
        "import numpy as np\n",
        "\n",
        "torch.manual_seed(0)\n",
        "\n",
        "train_set = torchvision.datasets.FashionMNIST(root = \".\", train = True ,download = True , transform = transforms.ToTensor())\n",
        "test_set = torchvision.datasets.FashionMNIST(root = \".\", train = False ,download = True , transform = transforms.ToTensor())\n",
        "\n",
        "def test_train_validation_split(train_set,test_set,train_ratio=0.7):\n",
        "    \"\"\"\n",
        "    Train and Validation split \n",
        "    if train_ratio is 0.7 it will split the train_set into 70% training data, 30% Validation Data.\n",
        "    * this function is not used after a calrification on forum post\n",
        "    params: train_set, test_set, train_ratio\n",
        "    returns: training_loader,valid_loader,test_loader\n",
        "    \"\"\"\n",
        "    train_len = int(train_ratio*len(train_set))\n",
        "    valid_len = len(train_set) - train_len\n",
        "    train, valid = D.random_split(train_set, lengths=[train_len, valid_len])\n",
        "    training_loader = torch.utils.data.DataLoader(train, batch_size=32,shuffle = False)\n",
        "    valid_loader = torch.utils.data.DataLoader(valid, batch_size=32,shuffle = False)\n",
        "    test_loader = torch.utils.data.DataLoader(test_set, batch_size=32,shuffle = False)\n",
        "    print(\"Train data len: \", len(training_loader),\"Valid data len: \",len(valid_loader),\"Test data len: \",len(test_loader))\n",
        "    return training_loader,valid_loader,test_loader"
      ]
    },
    {
      "cell_type": "markdown",
      "metadata": {
        "id": "1wGlcJ6hse0c"
      },
      "source": [
        "In the following cells, the data is analysed and simple visualisation of the data is done."
      ]
    },
    {
      "cell_type": "code",
      "execution_count": null,
      "metadata": {
        "colab": {
          "base_uri": "https://localhost:8080/"
        },
        "id": "bDE-UwsZse0c",
        "outputId": "d363007b-1f35-42ed-e21e-df413a6e71f5"
      },
      "outputs": [
        {
          "output_type": "stream",
          "name": "stdout",
          "text": [
            "Train data len:  1875 Valid data len:  0 Test data len:  313\n"
          ]
        }
      ],
      "source": [
        "training_loader,valid_loader,test_loader = test_train_validation_split(train_set,test_set,train_ratio=1)"
      ]
    },
    {
      "cell_type": "code",
      "execution_count": null,
      "metadata": {
        "colab": {
          "base_uri": "https://localhost:8080/"
        },
        "id": "PFg8pDmgse0d",
        "outputId": "22817f8c-aca1-45fa-ab36-4d4487bac3e9"
      },
      "outputs": [
        {
          "output_type": "execute_result",
          "data": {
            "text/plain": [
              "(1875, 0, 313)"
            ]
          },
          "metadata": {},
          "execution_count": 7
        }
      ],
      "source": [
        "len(training_loader),len(valid_loader),len(test_loader)"
      ]
    },
    {
      "cell_type": "code",
      "execution_count": null,
      "metadata": {
        "colab": {
          "base_uri": "https://localhost:8080/"
        },
        "id": "yAKvBWh8se0d",
        "outputId": "730ce034-3fef-4171-9745-d6801394d397"
      },
      "outputs": [
        {
          "output_type": "stream",
          "name": "stdout",
          "text": [
            "<class 'torch.Tensor'>\n",
            "torch.Size([32, 1, 28, 28])\n",
            "torch.Size([32])\n"
          ]
        }
      ],
      "source": [
        "dataiter = iter(training_loader)\n",
        "images, labels = dataiter.next()\n",
        "print(type(images))\n",
        "print(images.shape)\n",
        "print(labels.shape)"
      ]
    },
    {
      "cell_type": "code",
      "execution_count": null,
      "metadata": {
        "colab": {
          "base_uri": "https://localhost:8080/",
          "height": 482
        },
        "id": "QbtexcuSJnG9",
        "outputId": "a3210d5d-1ca3-49b5-f2ba-4d85d481f086"
      },
      "outputs": [
        {
          "output_type": "display_data",
          "data": {
            "image/png": "[encoded data removed]",
            "text/plain": [
              "<Figure size 576x576 with 9 Axes>"
            ]
          },
          "metadata": {
            "needs_background": "light"
          }
        }
      ],
      "source": [
        "labels_map = {0 : 'T-Shirt', 1 : 'Trouser', 2 : 'Pullover', 3 : 'Dress', 4 : 'Coat', 5 : 'Sandal', 6 : 'Shirt',\n",
        "              7 : 'Sneaker', 8 : 'Bag', 9 : 'Ankle Boot'};\n",
        "fig = plt.figure(figsize=(8,8));\n",
        "columns = 3;\n",
        "rows = 3;\n",
        "for i in range(1, columns*rows +1):\n",
        "    img_xy = np.random.randint(len(train_set));\n",
        "    img = train_set[img_xy][0][0,:,:]\n",
        "    fig.add_subplot(rows, columns, i)\n",
        "    plt.title(labels_map[train_set[img_xy][1]])\n",
        "    plt.axis('off')\n",
        "    plt.imshow(img, cmap='gray')"
      ]
    },
    {
      "cell_type": "markdown",
      "metadata": {
        "id": "mH9-CwIKse0e"
      },
      "source": [
        "From the above we analysed that there are 10 classes of Fashion accessories, thus we would be building a Multiclass classifier.\n",
        "\n",
        "In the following code, the CNN network is built with following specifications\n",
        "```\n",
        "Network(\n",
        "  (conv1): Conv2d(1, 32, kernel_size=(5, 5), stride=(1, 1))\n",
        "  (conv2): Conv2d(32, 64, kernel_size=(5, 5), stride=(1, 1))\n",
        "  (fc1): Linear(in_features=1024, out_features=256, bias=True)\n",
        "  (dropout1): Dropout(p=0.8, inplace=False)\n",
        "  (out): Linear(in_features=256, out_features=10, bias=True)\n",
        ")\n",
        "```\n",
        "Each layer is Xavier normalised."
      ]
    },
    {
      "cell_type": "code",
      "execution_count": null,
      "metadata": {
        "id": "tptPGkPcWE4W"
      },
      "outputs": [],
      "source": [
        "# Build the neural network, expand on top of nn.Module\n",
        "class Network(nn.Module):\n",
        "    def __init__(self,num_classes=10,activation=\"relu\",dropout_rate=0,training_flag=True):\n",
        "        super(Network, self).__init__()\n",
        "        self.num_classes = num_classes # 10 here\n",
        "        self.activation = activation # which activation function to employ\n",
        "        self.dropout_rate = dropout_rate # if dropout then  how much\n",
        "        self.training_flag = training_flag # if dropout then trainable or not\n",
        "        \n",
        "        self.conv1 = nn.Conv2d(in_channels=1, out_channels=32, kernel_size=5)\n",
        "        nn.init.xavier_normal_(self.conv1.weight)\n",
        "        self.conv2 = nn.Conv2d(in_channels=32, out_channels=64, kernel_size=5)\n",
        "        nn.init.xavier_normal_(self.conv2.weight)\n",
        "        self.fc1 = nn.Linear(in_features=1024, out_features=256)\n",
        "        nn.init.xavier_normal_(self.fc1.weight)\n",
        "        self.dropout1 = nn.Dropout(p=dropout_rate,inplace=False) \n",
        "        self.out = nn.Linear(in_features=256, out_features=num_classes)\n",
        "        nn.init.xavier_normal_(self.out.weight)\n",
        "        \n",
        "\n",
        "\n",
        "    def forward(self, t):\n",
        "\n",
        "        # conv 1\n",
        "        t = self.conv1(t)\n",
        "        if self.activation == \"relu\":\n",
        "            t = torch.nn.functional.relu(t)\n",
        "        if self.activation == \"tanh\":\n",
        "            t = torch.tanh(t)\n",
        "        if self.activation == \"sigmoid\":\n",
        "            t = torch.sigmoid(t)\n",
        "        if self.activation == \"elu\":\n",
        "            t = torch.nn.functional.elu(t)\n",
        "        t = F.max_pool2d(t, kernel_size=2, stride=2)\n",
        "\n",
        "        # conv 2\n",
        "        t = self.conv2(t)\n",
        "        if self.activation == \"relu\":\n",
        "            t = torch.nn.functional.relu(t)\n",
        "        if self.activation == \"tanh\":\n",
        "            t = torch.tanh(t)\n",
        "        if self.activation == \"sigmoid\":\n",
        "            t = torch.sigmoid(t)\n",
        "        if self.activation == \"elu\":\n",
        "            t = torch.nn.functional.elu(t)\n",
        "        t = F.max_pool2d(t, kernel_size=2, stride=2)\n",
        "\n",
        "        t = t.view(t.size(0), -1)\n",
        "        # fc1\n",
        "        t = self.fc1(t)\n",
        "        if self.activation == \"relu\":\n",
        "            t = torch.nn.functional.relu(t)\n",
        "        if self.activation == \"tanh\":\n",
        "            t = torch.tanh(t)\n",
        "        if self.activation == \"sigmoid\":\n",
        "            t = torch.sigmoid(t)\n",
        "        if self.activation == \"elu\":\n",
        "            t = torch.nn.functional.elu(t)\n",
        "\n",
        "        # output\n",
        "        t = self.out(t)\n",
        "        if self.dropout_rate > 0.0 and self.training_flag==True:\n",
        "            t = self.dropout1(t)\n",
        "        elif self.dropout_rate > 0.0 and self.training_flag==False:\n",
        "            t = torch.nn.functional.dropout(t, self.dropout_rate)\n",
        "        else:\n",
        "            return t\n",
        "\n",
        "        return t"
      ]
    },
    {
      "cell_type": "markdown",
      "metadata": {
        "id": "FFrZMecnse0g"
      },
      "source": [
        "Below functions are invoked to perform training and evaluation of the model "
      ]
    },
    {
      "cell_type": "code",
      "execution_count": null,
      "metadata": {
        "id": "LGZjrcqQse0g"
      },
      "outputs": [],
      "source": [
        "def train(model,x,y,criterion,optimizer):\n",
        "    \"\"\"\n",
        "    train Neural Network\n",
        "    \"\"\"\n",
        "    # zero the parameter gradients\n",
        "    optimizer.zero_grad()\n",
        "    \n",
        "    # forward + backward + optimize\n",
        "    outputs = model(x)\n",
        "    loss = criterion(outputs, y)\n",
        "    loss.backward()\n",
        "    optimizer.step()\n",
        "    return loss.item()\n",
        "\n",
        "def valid(model,x_valid,y_valid,criterion):\n",
        "    \"\"\"\n",
        "    perform validation NN\n",
        "    * This is not performed\n",
        "    \"\"\"\n",
        "    model.eval()\n",
        "    y_pred = model(x_valid)\n",
        "    loss = criterion(y_pred, y_valid)\n",
        "    return loss.item()\n",
        "\n",
        "def evaluation(model,loader):\n",
        "    \"\"\"\n",
        "    perform evalaution NN\n",
        "    \"\"\"\n",
        "    correct = 0\n",
        "    total = 0\n",
        "    model.eval()\n",
        "    with torch.no_grad():\n",
        "        for i, (images,labels) in enumerate(loader):\n",
        "            images, labels = images.to(device), labels.to(device)\n",
        "            images = Variable(images.float())\n",
        "            labels = Variable(labels)\n",
        "            outputs = model(images)\n",
        "            _, predicted = torch.max(outputs.data, 1)\n",
        "            total += labels.size(0)\n",
        "            correct += (predicted == labels).sum().item()\n",
        "    return correct / total if total > 0 else 0"
      ]
    },
    {
      "cell_type": "markdown",
      "metadata": {
        "id": "cuY60x97se0g"
      },
      "source": [
        "Below function is invoked each time a different parameter is set. For example, if we want to use different epoch size, below function is used and different epoch size can be set in \\*params "
      ]
    },
    {
      "cell_type": "code",
      "execution_count": null,
      "metadata": {
        "id": "4Y6xcWzYse0g"
      },
      "outputs": [],
      "source": [
        "def classify(device,model,data,criterion,optimizer,*params):\n",
        "    \"\"\"\n",
        "    One function to perform calssification with different model parameters\n",
        "    \"\"\"\n",
        "    num_epochs,num_classes,batch_size,learning_rate,activation = params\n",
        "    training_loader,valid_loader,test_loader = data\n",
        "    \n",
        "    total_step = len(training_loader)\n",
        "    train_losses = []\n",
        "    valid_losses = []\n",
        "    train_accuracy = []\n",
        "    valid_accuracy = []\n",
        "    test_accuracy = []\n",
        "    tte = [] # time taken per epoch\n",
        "    for epoch in range(num_epochs):\n",
        "        loss_epoch = 0\n",
        "        tte_start = time.time()\n",
        "\n",
        "        for i, (images,labels) in enumerate(training_loader):\n",
        "            model.train()\n",
        "            images, labels = images.to(device), labels.to(device)\n",
        "            images = Variable(images.float())\n",
        "            labels = Variable(labels)\n",
        "            loss = train(model,images,labels,criterion,optimizer)\n",
        "            loss_epoch += loss\n",
        "        train_losses.append(loss)\n",
        "        \n",
        "        if len(valid_loader)>0:\n",
        "            for j, (images,labels) in enumerate(valid_loader):\n",
        "                images, labels = images.to(device), labels.to(device)\n",
        "                images = Variable(images.float())\n",
        "                labels = Variable(labels)\n",
        "                loss = valid(model,images,labels,criterion)\n",
        "            valid_losses.append(loss)\n",
        "        else:\n",
        "            valid_losses.append(0)\n",
        "        train_accuracy.append(evaluation(model,training_loader))\n",
        "        valid_accuracy.append(evaluation(model,valid_loader))\n",
        "        test_accuracy.append(evaluation(model,test_loader))\n",
        "        tte_end = time.time()\n",
        "        elapsed_time = tte_end-tte_start\n",
        "        tte.append(elapsed_time)\n",
        "        print ('Epoch [{}/{}] {:.2f} sec, loss_epoch: {:.2f} ,loss: {:.4f}, acc: {:.4f}, v_loss: {:.1f}, v_acc: {:.1f}, test_acc: {:.4f}'.format(epoch+1, num_epochs, elapsed_time,loss_epoch,train_losses[-1], train_accuracy[-1], valid_losses[-1], valid_accuracy[-1],test_accuracy[-1]))\n",
        "\n",
        "    final_test_accuracy = evaluation(model,test_loader)\n",
        "    print('Test Accuracy of the model: {:.4f} %'.format(100 * final_test_accuracy))\n",
        "    print('Total Time taken: {:.3f} sec'.format(sum(tte)))\n",
        "    return train_losses, valid_losses, train_accuracy, valid_accuracy, test_accuracy, final_test_accuracy, sum(tte)"
      ]
    },
    {
      "cell_type": "markdown",
      "metadata": {
        "id": "aMSyTAfmse0h"
      },
      "source": [
        "Below Code is performing Q1 a and b, epoch size is 50, SGD optimiser, learning rate is 0.1 and CrossEntropyLoss. "
      ]
    },
    {
      "cell_type": "code",
      "execution_count": null,
      "metadata": {
        "colab": {
          "base_uri": "https://localhost:8080/"
        },
        "id": "TrRMwrLvse0h",
        "outputId": "82d354dd-b529-4947-e5a2-c036f2fe0c85"
      },
      "outputs": [
        {
          "output_type": "stream",
          "name": "stdout",
          "text": [
            "Train data len:  1875 Valid data len:  0 Test data len:  313\n",
            "Epoch [1/50] 95.17 sec, loss_epoch: 961.51 ,loss: 0.1041, acc: 0.8729, v_loss: 0.0, v_acc: 0.0, test_acc: 0.8576\n",
            "Epoch [2/50] 93.68 sec, loss_epoch: 608.06 ,loss: 0.0827, acc: 0.8911, v_loss: 0.0, v_acc: 0.0, test_acc: 0.8740\n",
            "Epoch [3/50] 92.38 sec, loss_epoch: 521.02 ,loss: 0.0534, acc: 0.9035, v_loss: 0.0, v_acc: 0.0, test_acc: 0.8857\n",
            "Epoch [4/50] 92.04 sec, loss_epoch: 462.93 ,loss: 0.0546, acc: 0.9118, v_loss: 0.0, v_acc: 0.0, test_acc: 0.8906\n",
            "Epoch [5/50] 91.97 sec, loss_epoch: 417.62 ,loss: 0.0522, acc: 0.9159, v_loss: 0.0, v_acc: 0.0, test_acc: 0.8926\n",
            "Epoch [6/50] 92.41 sec, loss_epoch: 377.21 ,loss: 0.0463, acc: 0.9221, v_loss: 0.0, v_acc: 0.0, test_acc: 0.8936\n",
            "Epoch [7/50] 92.30 sec, loss_epoch: 339.85 ,loss: 0.0303, acc: 0.9253, v_loss: 0.0, v_acc: 0.0, test_acc: 0.8911\n",
            "Epoch [8/50] 92.34 sec, loss_epoch: 305.29 ,loss: 0.0277, acc: 0.9318, v_loss: 0.0, v_acc: 0.0, test_acc: 0.8947\n",
            "Epoch [9/50] 92.80 sec, loss_epoch: 272.46 ,loss: 0.0149, acc: 0.9279, v_loss: 0.0, v_acc: 0.0, test_acc: 0.8923\n",
            "Epoch [10/50] 93.02 sec, loss_epoch: 245.73 ,loss: 0.0182, acc: 0.9299, v_loss: 0.0, v_acc: 0.0, test_acc: 0.8916\n",
            "Epoch [11/50] 94.03 sec, loss_epoch: 223.19 ,loss: 0.0084, acc: 0.9251, v_loss: 0.0, v_acc: 0.0, test_acc: 0.8861\n",
            "Epoch [12/50] 99.62 sec, loss_epoch: 201.76 ,loss: 0.0079, acc: 0.9399, v_loss: 0.0, v_acc: 0.0, test_acc: 0.8966\n",
            "Epoch [13/50] 99.90 sec, loss_epoch: 184.93 ,loss: 0.0374, acc: 0.9410, v_loss: 0.0, v_acc: 0.0, test_acc: 0.8931\n",
            "Epoch [14/50] 96.95 sec, loss_epoch: 178.23 ,loss: 0.0047, acc: 0.9359, v_loss: 0.0, v_acc: 0.0, test_acc: 0.8877\n",
            "Epoch [15/50] 92.14 sec, loss_epoch: 171.18 ,loss: 0.0033, acc: 0.9448, v_loss: 0.0, v_acc: 0.0, test_acc: 0.8921\n",
            "Epoch [16/50] 92.30 sec, loss_epoch: 156.45 ,loss: 0.0118, acc: 0.9348, v_loss: 0.0, v_acc: 0.0, test_acc: 0.8857\n",
            "Epoch [17/50] 92.17 sec, loss_epoch: 148.19 ,loss: 0.0046, acc: 0.9447, v_loss: 0.0, v_acc: 0.0, test_acc: 0.8887\n",
            "Epoch [18/50] 91.45 sec, loss_epoch: 142.25 ,loss: 0.0051, acc: 0.9462, v_loss: 0.0, v_acc: 0.0, test_acc: 0.8893\n",
            "Epoch [19/50] 91.09 sec, loss_epoch: 136.41 ,loss: 0.0052, acc: 0.9529, v_loss: 0.0, v_acc: 0.0, test_acc: 0.8936\n",
            "Epoch [20/50] 91.42 sec, loss_epoch: 126.77 ,loss: 0.0494, acc: 0.9490, v_loss: 0.0, v_acc: 0.0, test_acc: 0.8912\n",
            "Epoch [21/50] 91.48 sec, loss_epoch: 113.99 ,loss: 0.0128, acc: 0.9493, v_loss: 0.0, v_acc: 0.0, test_acc: 0.8886\n",
            "Epoch [22/50] 92.95 sec, loss_epoch: 112.75 ,loss: 0.0196, acc: 0.9519, v_loss: 0.0, v_acc: 0.0, test_acc: 0.8914\n",
            "Epoch [23/50] 95.63 sec, loss_epoch: 104.98 ,loss: 0.0348, acc: 0.9641, v_loss: 0.0, v_acc: 0.0, test_acc: 0.9054\n",
            "Epoch [24/50] 94.21 sec, loss_epoch: 105.58 ,loss: 0.0012, acc: 0.9614, v_loss: 0.0, v_acc: 0.0, test_acc: 0.8936\n",
            "Epoch [25/50] 94.93 sec, loss_epoch: 96.41 ,loss: 0.2889, acc: 0.9540, v_loss: 0.0, v_acc: 0.0, test_acc: 0.8905\n",
            "Epoch [26/50] 95.19 sec, loss_epoch: 103.26 ,loss: 0.0112, acc: 0.9452, v_loss: 0.0, v_acc: 0.0, test_acc: 0.8894\n",
            "Epoch [27/50] 95.55 sec, loss_epoch: 97.28 ,loss: 0.0012, acc: 0.9634, v_loss: 0.0, v_acc: 0.0, test_acc: 0.8993\n",
            "Epoch [28/50] 95.22 sec, loss_epoch: 80.33 ,loss: 0.0007, acc: 0.9634, v_loss: 0.0, v_acc: 0.0, test_acc: 0.8925\n",
            "Epoch [29/50] 97.14 sec, loss_epoch: 84.87 ,loss: 0.0056, acc: 0.9681, v_loss: 0.0, v_acc: 0.0, test_acc: 0.8964\n",
            "Epoch [30/50] 97.07 sec, loss_epoch: 79.13 ,loss: 0.0503, acc: 0.9683, v_loss: 0.0, v_acc: 0.0, test_acc: 0.8956\n",
            "Epoch [31/50] 98.95 sec, loss_epoch: 84.91 ,loss: 0.0004, acc: 0.9658, v_loss: 0.0, v_acc: 0.0, test_acc: 0.8992\n",
            "Epoch [32/50] 98.87 sec, loss_epoch: 78.89 ,loss: 0.0550, acc: 0.9646, v_loss: 0.0, v_acc: 0.0, test_acc: 0.8977\n",
            "Epoch [33/50] 100.76 sec, loss_epoch: 91.77 ,loss: 0.0032, acc: 0.9575, v_loss: 0.0, v_acc: 0.0, test_acc: 0.8899\n",
            "Epoch [34/50] 97.23 sec, loss_epoch: 78.70 ,loss: 0.0000, acc: 0.9696, v_loss: 0.0, v_acc: 0.0, test_acc: 0.8977\n",
            "Epoch [35/50] 99.91 sec, loss_epoch: 71.83 ,loss: 0.0015, acc: 0.9736, v_loss: 0.0, v_acc: 0.0, test_acc: 0.9025\n",
            "Epoch [36/50] 103.38 sec, loss_epoch: 75.02 ,loss: 0.0410, acc: 0.9725, v_loss: 0.0, v_acc: 0.0, test_acc: 0.9002\n",
            "Epoch [37/50] 101.73 sec, loss_epoch: 82.84 ,loss: 0.0186, acc: 0.9708, v_loss: 0.0, v_acc: 0.0, test_acc: 0.8932\n",
            "Epoch [38/50] 104.77 sec, loss_epoch: 65.05 ,loss: 0.1474, acc: 0.9698, v_loss: 0.0, v_acc: 0.0, test_acc: 0.8977\n",
            "Epoch [39/50] 105.08 sec, loss_epoch: 74.58 ,loss: 0.0008, acc: 0.9608, v_loss: 0.0, v_acc: 0.0, test_acc: 0.8925\n",
            "Epoch [40/50] 102.56 sec, loss_epoch: 73.54 ,loss: 0.0002, acc: 0.9740, v_loss: 0.0, v_acc: 0.0, test_acc: 0.8978\n",
            "Epoch [41/50] 103.53 sec, loss_epoch: 59.71 ,loss: 0.0029, acc: 0.9757, v_loss: 0.0, v_acc: 0.0, test_acc: 0.9005\n",
            "Epoch [42/50] 107.84 sec, loss_epoch: 58.64 ,loss: 0.0001, acc: 0.9823, v_loss: 0.0, v_acc: 0.0, test_acc: 0.9000\n"
          ]
        }
      ],
      "source": [
        "result = []\n",
        "num_epochs = 50\n",
        "num_classes = 10\n",
        "batch_size = 100\n",
        "learning_rate = 0.1\n",
        "activation = \"relu\"\n",
        "dropout_rate = 0\n",
        "training_flag = True\n",
        "device = torch.device('cuda:0' if torch.cuda.is_available() else 'cpu')\n",
        "net = Network(num_classes,activation=activation,dropout_rate=dropout_rate,training_flag=training_flag).to(device)\n",
        "criterion = nn.CrossEntropyLoss()\n",
        "optimizer = optim.SGD(net.parameters(), lr=learning_rate)\n",
        "data = test_train_validation_split(train_set,test_set,train_ratio=1)\n",
        "[training_loader,valid_loader,test_loader] = data \n",
        "\n",
        "t_loss,v_loss,t_acc,v_acc,test_acc,final_test_accuracy,exec_time = classify(device,net,data,criterion,optimizer,num_epochs,num_classes,batch_size,learning_rate,activation)\n",
        "end = [learning_rate,activation,dropout_rate,num_epochs,t_loss,v_loss,t_acc,v_acc,test_acc,final_test_accuracy,exec_time]\n",
        "result.append(end)"
      ]
    },
    {
      "cell_type": "markdown",
      "metadata": {
        "id": "-nYXm21Lse0h"
      },
      "source": [
        "Saving the model to 'model.ckpt' file."
      ]
    },
    {
      "cell_type": "code",
      "execution_count": null,
      "metadata": {
        "id": "CjvoDB_ase0h",
        "colab": {
          "base_uri": "https://localhost:8080/",
          "height": 171
        },
        "outputId": "8cd2ebbc-7757-42e0-c803-2188ed8fd974"
      },
      "outputs": [
        {
          "output_type": "error",
          "ename": "NameError",
          "evalue": "ignored",
          "traceback": [
            "\u001b[0;31m---------------------------------------------------------------------------\u001b[0m",
            "\u001b[0;31mNameError\u001b[0m                                 Traceback (most recent call last)",
            "\u001b[0;32m<ipython-input-1-39be73f8f1d4>\u001b[0m in \u001b[0;36m<module>\u001b[0;34m()\u001b[0m\n\u001b[0;32m----> 1\u001b[0;31m \u001b[0mtorch\u001b[0m\u001b[0;34m.\u001b[0m\u001b[0msave\u001b[0m\u001b[0;34m(\u001b[0m\u001b[0mnet\u001b[0m\u001b[0;34m.\u001b[0m\u001b[0mstate_dict\u001b[0m\u001b[0;34m(\u001b[0m\u001b[0;34m)\u001b[0m\u001b[0;34m,\u001b[0m \u001b[0;34m'model.ckpt'\u001b[0m\u001b[0;34m)\u001b[0m\u001b[0;34m\u001b[0m\u001b[0;34m\u001b[0m\u001b[0m\n\u001b[0m",
            "\u001b[0;31mNameError\u001b[0m: name 'torch' is not defined"
          ]
        }
      ],
      "source": [
        "torch.save(net.state_dict(), 'model.ckpt')"
      ]
    },
    {
      "cell_type": "markdown",
      "metadata": {
        "id": "0ONt2p7xse0i"
      },
      "source": [
        "Below code is to get results of different activation functions namely \"tanh\",\"sigmoid\",\"elu\"."
      ]
    },
    {
      "cell_type": "code",
      "execution_count": null,
      "metadata": {
        "id": "BEm1m6Oqse0i",
        "scrolled": true
      },
      "outputs": [],
      "source": [
        "for activation in [\"tanh\",\"sigmoid\",\"elu\"]:\n",
        "    num_epochs = 50\n",
        "    num_classes = 10\n",
        "    batch_size = 100\n",
        "    learning_rate = 0.1\n",
        "    dropout_rate = 0\n",
        "    # activations = [\"tanh\",\"sigmoid\",\"elu\"]\n",
        "    print(activation)\n",
        "    training_flag = True\n",
        "    device = torch.device('cuda:0' if torch.cuda.is_available() else 'cpu')\n",
        "    net = Network(num_classes,activation=activation,dropout_rate=dropout_rate,training_flag=training_flag).to(device)\n",
        "    criterion = nn.CrossEntropyLoss()\n",
        "    optimizer = optim.SGD(net.parameters(), lr=learning_rate)\n",
        "    data = test_train_validation_split(train_set,test_set,train_ratio=1)\n",
        "    [training_loader,valid_loader,test_loader] = data \n",
        "\n",
        "    t_loss,v_loss,t_acc,v_acc,test_acc,final_test_accuracy,exec_time = classify(device,net,data,criterion,optimizer,num_epochs,num_classes,batch_size,learning_rate,activation)\n",
        "    end = [learning_rate,activation,dropout_rate,num_epochs,t_loss,v_loss,t_acc,v_acc,test_acc,final_test_accuracy,exec_time]\n",
        "    result.append(end)"
      ]
    },
    {
      "cell_type": "markdown",
      "metadata": {
        "id": "D05d_TEQse0i"
      },
      "source": [
        "Below code is to get reults of perfomace of model for different learning rates 0.001, 0.1, 0.5, 1, 10"
      ]
    },
    {
      "cell_type": "code",
      "execution_count": null,
      "metadata": {
        "id": "D8xzaIByse0i"
      },
      "outputs": [],
      "source": [
        "for learning_rate in [0.001,0.1,0.5,1,10]:\n",
        "    num_epochs = 50\n",
        "    num_classes = 10\n",
        "    batch_size = 100\n",
        "#     learning_rate = 0.1\n",
        "    activation = \"relu\"\n",
        "    dropout_rate = 0\n",
        "    print(learning_rate)\n",
        "    training_flag = True\n",
        "    device = torch.device('cuda:0' if torch.cuda.is_available() else 'cpu')\n",
        "    net = Network(num_classes,activation=activation,dropout_rate=dropout_rate,training_flag=training_flag).to(device)\n",
        "    criterion = nn.CrossEntropyLoss()\n",
        "    optimizer = optim.SGD(net.parameters(), lr=learning_rate)\n",
        "    data = test_train_validation_split(train_set,test_set,train_ratio=1)\n",
        "    [training_loader,valid_loader,test_loader] = data \n",
        "\n",
        "    t_loss,v_loss,t_acc,v_acc,test_acc,final_test_accuracy,exec_time = classify(device,net,data,criterion,optimizer,num_epochs,num_classes,batch_size,learning_rate,activation)\n",
        "    end = [learning_rate,activation,dropout_rate,num_epochs,t_loss,v_loss,t_acc,v_acc,test_acc,final_test_accuracy,exec_time]\n",
        "    result.append(end)"
      ]
    },
    {
      "cell_type": "markdown",
      "metadata": {
        "id": "-RwffVwKse0i"
      },
      "source": [
        "Below code is to get results of performace of the model when a dropout layer is applied using `nn.Dropout()` layer "
      ]
    },
    {
      "cell_type": "code",
      "execution_count": null,
      "metadata": {
        "id": "-WaImaeFse0j"
      },
      "outputs": [],
      "source": [
        "for dropout_rate in [0.3,0.1,0.8]:\n",
        "    num_epochs = 50\n",
        "    num_classes = 10\n",
        "    batch_size = 100\n",
        "    learning_rate = 0.1\n",
        "    activation = \"relu\"\n",
        "    # dropout_rate = [0.3,0.1,0.8]\n",
        "    training_flag = True\n",
        "    device = torch.device('cuda:0' if torch.cuda.is_available() else 'cpu')\n",
        "    net = Network(num_classes,activation=activation,dropout_rate=dropout_rate,training_flag=training_flag).to(device)\n",
        "    criterion = nn.CrossEntropyLoss()\n",
        "    optimizer = optim.SGD(net.parameters(), lr=learning_rate)\n",
        "    data = test_train_validation_split(train_set,test_set,train_ratio=1)\n",
        "    [training_loader,valid_loader,test_loader] = data \n",
        "\n",
        "    t_loss,v_loss,t_acc,v_acc,test_acc,final_test_accuracy,exec_time = classify(device,net,data,criterion,optimizer,num_epochs,num_classes,batch_size,learning_rate,activation)\n",
        "    end = [learning_rate,activation,dropout_rate,num_epochs,t_loss,v_loss,t_acc,v_acc,test_acc,final_test_accuracy,exec_time]\n",
        "    result.append(end)"
      ]
    },
    {
      "cell_type": "markdown",
      "metadata": {
        "id": "SkLyWCcKse0j"
      },
      "source": [
        "From the above we can see that dropout penalty is applied only during training and not during evalaution. This has been discussed here https://stackoverflow.com/questions/53419474/using-dropout-in-pytorch-nn-dropout-vs-f-dropout"
      ]
    },
    {
      "cell_type": "markdown",
      "metadata": {
        "id": "SI5NSMiUse0j"
      },
      "source": [
        "The below code uses `torch.nn.functional.dropout()` to apply dropout to the layers, using this it penalises the network irerespective of its phase, training or evalaution. The results are conclusive."
      ]
    },
    {
      "cell_type": "code",
      "execution_count": null,
      "metadata": {
        "id": "7jbiZM4Use0j"
      },
      "outputs": [],
      "source": [
        "for dropout_rate in [0.3,0.1,0.8]:\n",
        "    num_epochs = 50\n",
        "    num_classes = 10\n",
        "    batch_size = 100\n",
        "    learning_rate = 0.1\n",
        "    activation = \"relu\"\n",
        "    # dropout_rate = [0.3,0.1,0.8]\n",
        "    training_flag = False\n",
        "    device = torch.device('cuda:0' if torch.cuda.is_available() else 'cpu')\n",
        "    net = Network(num_classes,activation=activation,dropout_rate=dropout_rate,training_flag=training_flag).to(device)\n",
        "    criterion = nn.CrossEntropyLoss()\n",
        "    optimizer = optim.SGD(net.parameters(), lr=learning_rate)\n",
        "    data = test_train_validation_split(train_set,test_set,train_ratio=1)\n",
        "    [training_loader,valid_loader,test_loader] = data \n",
        "\n",
        "    t_loss,v_loss,t_acc,v_acc,test_acc,final_test_accuracy,exec_time = classify(device,net,data,criterion,optimizer,num_epochs,num_classes,batch_size,learning_rate,activation)\n",
        "    end = [learning_rate,activation,dropout_rate,num_epochs,t_loss,v_loss,t_acc,v_acc,test_acc,final_test_accuracy,exec_time]\n",
        "    result.append(end)"
      ]
    },
    {
      "cell_type": "markdown",
      "metadata": {
        "id": "-gNlGIdbse0j"
      },
      "source": [
        "Saving and tranforming all the results to  a usable format in pandas, dataframe."
      ]
    },
    {
      "cell_type": "code",
      "execution_count": null,
      "metadata": {
        "id": "My2tIjrJse0j"
      },
      "outputs": [],
      "source": [
        "import pandas as pd\n",
        "df = pd.DataFrame(result, columns = ['learning_rate','activation','dropout_rate','num_epochs','t_loss','v_loss','t_acc','v_acc','test_acc','final_test_accuracy','exec_time']) \n",
        "df['final_train_acc'] = df.apply(lambda x: x.t_acc[-1],axis = 1)\n",
        "df.to_csv(\"results.csv\",header=False)"
      ]
    },
    {
      "cell_type": "code",
      "execution_count": null,
      "metadata": {
        "id": "_beInfnHse0j"
      },
      "outputs": [],
      "source": [
        "df.head(3)"
      ]
    },
    {
      "cell_type": "markdown",
      "metadata": {
        "id": "T5JW4b-Rse0k"
      },
      "source": [
        "Q2 b results"
      ]
    },
    {
      "cell_type": "code",
      "execution_count": null,
      "metadata": {
        "id": "GfSV6VMbse0k"
      },
      "outputs": [],
      "source": [
        "pd.DataFrame([[df.loc[0, ['final_train_acc']][0],df.loc[0, ['final_test_accuracy']][0]]],columns=['Final Train Accuracy','Final Test Acurracy'])"
      ]
    },
    {
      "cell_type": "code",
      "execution_count": null,
      "metadata": {
        "id": "qwN-iA5Ase0k"
      },
      "outputs": [],
      "source": [
        "t_acc = df.loc[0, ['t_acc']][0]\n",
        "t_loss = df.loc[0, ['t_loss']][0]\n",
        "test_acc = df.loc[0, ['test_acc']][0]\n",
        "\n",
        "fig = plt.figure(figsize=(12,5))\n",
        "subfig = fig.add_subplot(121)\n",
        "subfig.plot(t_acc, 'o-' ,label=\"training\")\n",
        "subfig.plot(test_acc, label=\"train\")\n",
        "subfig.set_title('Training and Test Accuracy')\n",
        "subfig.set_xlabel('Epoch')\n",
        "subfig.set_ylabel('accuracy')\n",
        "subfig.legend(loc='upper left')\n",
        "subfig = fig.add_subplot(122)\n",
        "subfig.plot(t_loss, 'o-' ,label=\"training\")\n",
        "# subfig.plot(v_loss, label=\"validation\")\n",
        "subfig.set_title('Training Loss per epoch')\n",
        "subfig.set_xlabel('Epoch')\n",
        "subfig.set_ylabel('loss')\n",
        "subfig.legend(loc='upper left')"
      ]
    },
    {
      "cell_type": "markdown",
      "metadata": {
        "id": "ixLKvpdEse0k"
      },
      "source": [
        "Q2 c Activation function"
      ]
    },
    {
      "cell_type": "code",
      "execution_count": null,
      "metadata": {
        "id": "KJ4Ms8Pkse0k"
      },
      "outputs": [],
      "source": [
        "options = ['sigmoid','tanh','elu']\n",
        "df[df['activation'].isin(options)].loc[:,['activation','final_train_acc','final_test_accuracy']]"
      ]
    },
    {
      "cell_type": "code",
      "execution_count": null,
      "metadata": {
        "id": "tJRYhxdsse0k"
      },
      "outputs": [],
      "source": [
        "options = ['sigmoid','tanh','elu']\n",
        "d_act_ = df[df['activation'].isin(options)].loc[:,['t_acc','test_acc','t_loss']]\n",
        "df[df['activation'].isin(options)].loc[:,['t_acc','test_acc','t_loss']]"
      ]
    },
    {
      "cell_type": "code",
      "execution_count": null,
      "metadata": {
        "id": "s_Ng4Wduse0l"
      },
      "outputs": [],
      "source": [
        "d_act_t_acc = d_act_['t_acc']\n",
        "d_act_test_acc = d_act_['test_acc']\n",
        "d_act_t_loss = d_act_['t_loss']\n",
        "\n",
        "fig = plt.figure(figsize=(12,5))\n",
        "subfig = fig.add_subplot(121)\n",
        "subfig.plot(t_acc ,label=\"relu\")\n",
        "subfig.plot(d_act_t_acc[1] ,label=\"tanh\")\n",
        "subfig.plot(d_act_t_acc[2] ,label=\"sigmoid\")\n",
        "subfig.plot(d_act_t_acc[3] ,label=\"elu\")\n",
        "subfig.set_title('Train Accuracy on different Activation functions')\n",
        "subfig.set_xlabel('Epoch')\n",
        "subfig.set_ylabel('Acc')\n",
        "subfig.legend(loc='upper left')\n",
        "subfig = fig.add_subplot(122)\n",
        "subfig.plot(test_acc ,label=\"relu\")\n",
        "subfig.plot(d_act_test_acc[1] ,label=\"tanh\")\n",
        "subfig.plot(d_act_test_acc[2] ,label=\"sigmoid\")\n",
        "subfig.plot(d_act_test_acc[3] ,label=\"elu\")\n",
        "subfig.set_title('Train Accuracy and Loss on 0.100 Dropout')\n",
        "subfig.set_xlabel('Epoch')\n",
        "subfig.set_ylabel('Perf')\n",
        "subfig.legend(loc='upper left')\n",
        "\n",
        "fig = plt.figure(figsize=(12,5))\n",
        "subfig = fig.add_subplot(121)\n",
        "subfig.plot(t_loss ,label=\"relu\")\n",
        "subfig.plot(d_act_t_loss[1] ,label=\"tanh\")\n",
        "subfig.plot(d_act_t_loss[2] ,label=\"sigmoid\")\n",
        "subfig.plot(d_act_t_loss[3] ,label=\"elu\")\n",
        "subfig.set_title('Train Accuracy on different Activation functions')\n",
        "subfig.set_xlabel('Epoch')\n",
        "subfig.set_ylabel('loss')\n",
        "subfig.legend(loc='upper left')"
      ]
    },
    {
      "cell_type": "markdown",
      "metadata": {
        "id": "fEWNNt-wse0l"
      },
      "source": [
        "Q3 c learning rate"
      ]
    },
    {
      "cell_type": "code",
      "execution_count": null,
      "metadata": {
        "id": "NHhUyiy7se0l"
      },
      "outputs": [],
      "source": [
        "option1 = ['relu']\n",
        "option2 = [0.0]\n",
        "options3 = [0.001,0.1,0.5,1,10]\n",
        "d = df.loc[df['activation'].isin(option1)] \n",
        "d = d.loc[d['dropout_rate'].isin(option2)] \n",
        "d[d['learning_rate'].isin(options3)].loc[:,['activation','learning_rate','final_train_acc','final_test_accuracy']][1:6]"
      ]
    },
    {
      "cell_type": "code",
      "execution_count": null,
      "metadata": {
        "id": "m3ypEi-Ese0l"
      },
      "outputs": [],
      "source": [
        "option1 = ['relu']\n",
        "option2 = [0.0]\n",
        "options3 = [0.001,0.1,0.5,1,10]\n",
        "d = df.loc[df['activation'].isin(option1)] \n",
        "d = d.loc[d['dropout_rate'].isin(option2)] \n",
        "d = d[d['learning_rate'].isin(options3)].loc[:,['t_acc','t_loss']][1:6]"
      ]
    },
    {
      "cell_type": "code",
      "execution_count": null,
      "metadata": {
        "id": "CnFOJWpSse0l"
      },
      "outputs": [],
      "source": [
        "d_t_acc = d['t_acc']\n",
        "d_t_loss = d['t_loss']\n",
        "d"
      ]
    },
    {
      "cell_type": "code",
      "execution_count": null,
      "metadata": {
        "id": "5-S3BOrese0l"
      },
      "outputs": [],
      "source": [
        "fig = plt.figure(figsize=(12,5))\n",
        "subfig = fig.add_subplot(121)\n",
        "subfig.plot(d_t_acc[4] ,label=\"Acc\")\n",
        "subfig.plot(d_t_loss[4] ,label=\"Loss\")\n",
        "subfig.set_title('Train Accuracy and Loss on 0.001 Dropout')\n",
        "subfig.set_xlabel('Epoch')\n",
        "subfig.set_ylabel('Perf')\n",
        "subfig.legend(loc='lower right')\n",
        "subfig = fig.add_subplot(122)\n",
        "subfig.plot(d_t_acc[5] ,label=\"Acc\")\n",
        "subfig.plot(d_t_loss[5] ,label=\"Loss\")\n",
        "subfig.set_title('Train Accuracy and Loss on 0.100 Dropout')\n",
        "subfig.set_xlabel('Epoch')\n",
        "subfig.set_ylabel('Perf')\n",
        "subfig.legend(loc='lower right')\n",
        "\n",
        "fig = plt.figure(figsize=(12,5))\n",
        "subfig = fig.add_subplot(121)\n",
        "subfig.plot(d_t_acc[6] ,label=\"Acc\")\n",
        "subfig.plot(d_t_loss[6] ,label=\"Loss\")\n",
        "subfig.set_title('Train Accuracy and Loss on 0.500 Dropout')\n",
        "subfig.set_xlabel('Epoch')\n",
        "subfig.set_ylabel('Perf')\n",
        "subfig.legend(loc='lower right')\n",
        "subfig = fig.add_subplot(122)\n",
        "subfig.plot(d_t_acc[7] ,label=\"Acc\")\n",
        "subfig.plot(d_t_loss[7] ,label=\"Loss\")\n",
        "subfig.set_title('Train Accuracy and Loss on 1.000 Dropout')\n",
        "subfig.set_xlabel('Epoch')\n",
        "subfig.set_ylabel('Perf')\n",
        "subfig.legend(loc='lower right')"
      ]
    },
    {
      "cell_type": "markdown",
      "metadata": {
        "id": "eYBLO5iOse0m"
      },
      "source": [
        "Q2 d, here we analyse the results obtained for different dropouts using different methods.\n",
        "The issue is decribed here https://stackoverflow.com/questions/53419474/using-dropout-in-pytorch-nn-dropout-vs-f-dropout and for this we have obtained different results."
      ]
    },
    {
      "cell_type": "code",
      "execution_count": null,
      "metadata": {
        "id": "ZbOAoSsjse0m"
      },
      "outputs": [],
      "source": [
        "options = [0.1,0.3,0.5]\n",
        "df[df['dropout_rate'].isin(options)].loc[:,['dropout_rate','final_train_acc','final_test_accuracy']]"
      ]
    },
    {
      "cell_type": "code",
      "execution_count": null,
      "metadata": {
        "id": "03cZeN0ase0m"
      },
      "outputs": [],
      "source": [
        "t_acc = df.loc[9, ['t_acc']][0]\n",
        "test_acc = df.loc[9, ['test_acc']][0]\n",
        "t_loss = df.loc[9, ['t_loss']][0]\n",
        "fig = plt.figure(figsize=(12,5))\n",
        "subfig = fig.add_subplot(121)\n",
        "subfig.plot(t_acc, 'o-' ,label=\"training\")\n",
        "subfig.plot(test_acc, label=\"train\")\n",
        "subfig.set_title('Training and Test Accuracy')\n",
        "subfig.set_xlabel('Epoch')\n",
        "subfig.set_ylabel('accuracy')\n",
        "subfig.legend(loc='upper left')\n",
        "subfig = fig.add_subplot(122)\n",
        "subfig.plot(t_loss, 'o-' ,label=\"training\")\n",
        "# subfig.plot(v_loss, label=\"validation\")\n",
        "subfig.set_title('Training Loss per epoch')\n",
        "subfig.set_xlabel('Epoch')\n",
        "subfig.set_ylabel('loss')\n",
        "subfig.legend(loc='upper left')"
      ]
    },
    {
      "cell_type": "code",
      "execution_count": null,
      "metadata": {
        "id": "V_-UPeUcse0m"
      },
      "outputs": [],
      "source": [
        "t_acc = df.loc[12, ['t_acc']][0]\n",
        "test_acc = df.loc[12, ['test_acc']][0]\n",
        "t_loss = df.loc[12, ['t_loss']][0]\n",
        "fig = plt.figure(figsize=(12,5))\n",
        "subfig = fig.add_subplot(121)\n",
        "subfig.plot(t_acc, 'o-' ,label=\"training\")\n",
        "subfig.plot(test_acc, label=\"train\")\n",
        "subfig.set_title('Training and Test Accuracy')\n",
        "subfig.set_xlabel('Epoch')\n",
        "subfig.set_ylabel('accuracy')\n",
        "subfig.legend(loc='upper left')\n",
        "subfig = fig.add_subplot(122)\n",
        "subfig.plot(t_loss, 'o-' ,label=\"training\")\n",
        "# subfig.plot(v_loss, label=\"validation\")\n",
        "subfig.set_title('Training Loss per epoch')\n",
        "subfig.set_xlabel('Epoch')\n",
        "subfig.set_ylabel('loss')\n",
        "subfig.legend(loc='upper left')"
      ]
    },
    {
      "cell_type": "code",
      "execution_count": null,
      "metadata": {
        "id": "ICloGeAhse0m"
      },
      "outputs": [],
      "source": [
        "t_loss = df[-3:]['t_loss']\n",
        "t_acc = df[-3:]['t_acc']\n",
        "\n",
        "fig = plt.figure(figsize=(12,5))\n",
        "subfig = fig.add_subplot(121)\n",
        "subfig.plot(t_loss[12] ,label=\"0.3\")\n",
        "subfig.plot(t_loss[13] ,label=\"0.1\")\n",
        "subfig.plot(t_loss[14] ,label=\"0.8\")\n",
        "subfig.set_title('Different dropout effect on Training Loss')\n",
        "subfig.set_xlabel('Epoch')\n",
        "subfig.set_ylabel('Loss')\n",
        "subfig.legend(loc='upper left')\n",
        "subfig = fig.add_subplot(122)\n",
        "subfig.plot(t_acc[12] ,label=\"0.3\")\n",
        "subfig.plot(t_acc[13] ,label=\"0.1\")\n",
        "subfig.plot(t_acc[14] ,label=\"0.8\")\n",
        "subfig.set_title('Different dropout effect on Training Acurracy')\n",
        "subfig.set_xlabel('Epoch')\n",
        "subfig.set_ylabel('accuracy')\n",
        "subfig.legend(loc='upper left')"
      ]
    },
    {
      "cell_type": "code",
      "execution_count": null,
      "metadata": {
        "id": "32BITAFWse0m"
      },
      "outputs": [],
      "source": [
        "t_loss = df[-6:-3]['t_loss']\n",
        "t_acc = df[-6:-3]['t_acc']"
      ]
    },
    {
      "cell_type": "code",
      "execution_count": null,
      "metadata": {
        "id": "Y17pQruZse0m"
      },
      "outputs": [],
      "source": [
        "fig = plt.figure(figsize=(12,5))\n",
        "subfig = fig.add_subplot(121)\n",
        "subfig.plot(t_loss[9] ,label=\"0.3\")\n",
        "subfig.plot(t_loss[10] ,label=\"0.1\")\n",
        "subfig.plot(t_loss[11] ,label=\"0.8\")\n",
        "subfig.set_title('Different dropout effect on Training Loss')\n",
        "subfig.set_xlabel('Epoch')\n",
        "subfig.set_ylabel('Loss')\n",
        "subfig.legend(loc='upper left')\n",
        "subfig = fig.add_subplot(122)\n",
        "subfig.plot(t_acc[9] ,label=\"0.3\")\n",
        "subfig.plot(t_acc[10] ,label=\"0.1\")\n",
        "subfig.plot(t_acc[11] ,label=\"0.8\")\n",
        "subfig.set_title('Different dropout effect on Training Acurracy')\n",
        "subfig.set_xlabel('Epoch')\n",
        "subfig.set_ylabel('accuracy')\n",
        "subfig.legend(loc='upper left')"
      ]
    }
  ],
  "metadata": {
    "accelerator": "TPU",
    "colab": {
      "collapsed_sections": [],
      "name": "AI_CW2_Question2",
      "provenance": [],
      "toc_visible": true,
      "include_colab_link": true
    },
    "kernelspec": {
      "display_name": "Python 3",
      "language": "python",
      "name": "python3"
    },
    "language_info": {
      "codemirror_mode": {
        "name": "ipython",
        "version": 3
      },
      "file_extension": ".py",
      "mimetype": "text/x-python",
      "name": "python",
      "nbconvert_exporter": "python",
      "pygments_lexer": "ipython3",
      "version": "3.6.9"
    },
    "widgets": {
      "application/vnd.jupyter.widget-state+json": {
        "8d22957ae2834121be149bee5f7d5f93": {
          "model_module": "@jupyter-widgets/controls",
          "model_name": "HBoxModel",
          "model_module_version": "1.5.0",
          "state": {
            "_view_name": "HBoxView",
            "_dom_classes": [],
            "_model_name": "HBoxModel",
            "_view_module": "@jupyter-widgets/controls",
            "_model_module_version": "1.5.0",
            "_view_count": null,
            "_view_module_version": "1.5.0",
            "box_style": "",
            "layout": "IPY_MODEL_4d9a47921827431a8ac3b48e66be18c3",
            "_model_module": "@jupyter-widgets/controls",
            "children": [
              "IPY_MODEL_04476d4ad0ca45b18e6f4cf9d33c430a",
              "IPY_MODEL_33cb65eedd1646599a127e05c4bc500b",
              "IPY_MODEL_36570ca05a894cd3a14922d2e502b72f"
            ]
          }
        },
        "4d9a47921827431a8ac3b48e66be18c3": {
          "model_module": "@jupyter-widgets/base",
          "model_name": "LayoutModel",
          "model_module_version": "1.2.0",
          "state": {
            "_view_name": "LayoutView",
            "grid_template_rows": null,
            "right": null,
            "justify_content": null,
            "_view_module": "@jupyter-widgets/base",
            "overflow": null,
            "_model_module_version": "1.2.0",
            "_view_count": null,
            "flex_flow": null,
            "width": null,
            "min_width": null,
            "border": null,
            "align_items": null,
            "bottom": null,
            "_model_module": "@jupyter-widgets/base",
            "top": null,
            "grid_column": null,
            "overflow_y": null,
            "overflow_x": null,
            "grid_auto_flow": null,
            "grid_area": null,
            "grid_template_columns": null,
            "flex": null,
            "_model_name": "LayoutModel",
            "justify_items": null,
            "grid_row": null,
            "max_height": null,
            "align_content": null,
            "visibility": null,
            "align_self": null,
            "height": null,
            "min_height": null,
            "padding": null,
            "grid_auto_rows": null,
            "grid_gap": null,
            "max_width": null,
            "order": null,
            "_view_module_version": "1.2.0",
            "grid_template_areas": null,
            "object_position": null,
            "object_fit": null,
            "grid_auto_columns": null,
            "margin": null,
            "display": null,
            "left": null
          }
        },
        "04476d4ad0ca45b18e6f4cf9d33c430a": {
          "model_module": "@jupyter-widgets/controls",
          "model_name": "HTMLModel",
          "model_module_version": "1.5.0",
          "state": {
            "_view_name": "HTMLView",
            "style": "IPY_MODEL_22748d5673604a20b6b1a2c6a755d971",
            "_dom_classes": [],
            "description": "",
            "_model_name": "HTMLModel",
            "placeholder": "​",
            "_view_module": "@jupyter-widgets/controls",
            "_model_module_version": "1.5.0",
            "value": "",
            "_view_count": null,
            "_view_module_version": "1.5.0",
            "description_tooltip": null,
            "_model_module": "@jupyter-widgets/controls",
            "layout": "IPY_MODEL_6874dfbfb85b460d96252b1cc0fc531b"
          }
        },
        "33cb65eedd1646599a127e05c4bc500b": {
          "model_module": "@jupyter-widgets/controls",
          "model_name": "FloatProgressModel",
          "model_module_version": "1.5.0",
          "state": {
            "_view_name": "ProgressView",
            "style": "IPY_MODEL_c600584484fb45d2b802472c4c6d29ff",
            "_dom_classes": [],
            "description": "",
            "_model_name": "FloatProgressModel",
            "bar_style": "success",
            "max": 26421880,
            "_view_module": "@jupyter-widgets/controls",
            "_model_module_version": "1.5.0",
            "value": 26421880,
            "_view_count": null,
            "_view_module_version": "1.5.0",
            "orientation": "horizontal",
            "min": 0,
            "description_tooltip": null,
            "_model_module": "@jupyter-widgets/controls",
            "layout": "IPY_MODEL_55f424d538044dfb85c8c1ac36c962c9"
          }
        },
        "36570ca05a894cd3a14922d2e502b72f": {
          "model_module": "@jupyter-widgets/controls",
          "model_name": "HTMLModel",
          "model_module_version": "1.5.0",
          "state": {
            "_view_name": "HTMLView",
            "style": "IPY_MODEL_c349d1d8a9b347228b5c749d6d8fb204",
            "_dom_classes": [],
            "description": "",
            "_model_name": "HTMLModel",
            "placeholder": "​",
            "_view_module": "@jupyter-widgets/controls",
            "_model_module_version": "1.5.0",
            "value": " 26422272/? [00:01&lt;00:00, 19682509.83it/s]",
            "_view_count": null,
            "_view_module_version": "1.5.0",
            "description_tooltip": null,
            "_model_module": "@jupyter-widgets/controls",
            "layout": "IPY_MODEL_01d7f2aaaa33498da0b1bae6943dc776"
          }
        },
        "22748d5673604a20b6b1a2c6a755d971": {
          "model_module": "@jupyter-widgets/controls",
          "model_name": "DescriptionStyleModel",
          "model_module_version": "1.5.0",
          "state": {
            "_view_name": "StyleView",
            "_model_name": "DescriptionStyleModel",
            "description_width": "",
            "_view_module": "@jupyter-widgets/base",
            "_model_module_version": "1.5.0",
            "_view_count": null,
            "_view_module_version": "1.2.0",
            "_model_module": "@jupyter-widgets/controls"
          }
        },
        "6874dfbfb85b460d96252b1cc0fc531b": {
          "model_module": "@jupyter-widgets/base",
          "model_name": "LayoutModel",
          "model_module_version": "1.2.0",
          "state": {
            "_view_name": "LayoutView",
            "grid_template_rows": null,
            "right": null,
            "justify_content": null,
            "_view_module": "@jupyter-widgets/base",
            "overflow": null,
            "_model_module_version": "1.2.0",
            "_view_count": null,
            "flex_flow": null,
            "width": null,
            "min_width": null,
            "border": null,
            "align_items": null,
            "bottom": null,
            "_model_module": "@jupyter-widgets/base",
            "top": null,
            "grid_column": null,
            "overflow_y": null,
            "overflow_x": null,
            "grid_auto_flow": null,
            "grid_area": null,
            "grid_template_columns": null,
            "flex": null,
            "_model_name": "LayoutModel",
            "justify_items": null,
            "grid_row": null,
            "max_height": null,
            "align_content": null,
            "visibility": null,
            "align_self": null,
            "height": null,
            "min_height": null,
            "padding": null,
            "grid_auto_rows": null,
            "grid_gap": null,
            "max_width": null,
            "order": null,
            "_view_module_version": "1.2.0",
            "grid_template_areas": null,
            "object_position": null,
            "object_fit": null,
            "grid_auto_columns": null,
            "margin": null,
            "display": null,
            "left": null
          }
        },
        "c600584484fb45d2b802472c4c6d29ff": {
          "model_module": "@jupyter-widgets/controls",
          "model_name": "ProgressStyleModel",
          "model_module_version": "1.5.0",
          "state": {
            "_view_name": "StyleView",
            "_model_name": "ProgressStyleModel",
            "description_width": "",
            "_view_module": "@jupyter-widgets/base",
            "_model_module_version": "1.5.0",
            "_view_count": null,
            "_view_module_version": "1.2.0",
            "bar_color": null,
            "_model_module": "@jupyter-widgets/controls"
          }
        },
        "55f424d538044dfb85c8c1ac36c962c9": {
          "model_module": "@jupyter-widgets/base",
          "model_name": "LayoutModel",
          "model_module_version": "1.2.0",
          "state": {
            "_view_name": "LayoutView",
            "grid_template_rows": null,
            "right": null,
            "justify_content": null,
            "_view_module": "@jupyter-widgets/base",
            "overflow": null,
            "_model_module_version": "1.2.0",
            "_view_count": null,
            "flex_flow": null,
            "width": null,
            "min_width": null,
            "border": null,
            "align_items": null,
            "bottom": null,
            "_model_module": "@jupyter-widgets/base",
            "top": null,
            "grid_column": null,
            "overflow_y": null,
            "overflow_x": null,
            "grid_auto_flow": null,
            "grid_area": null,
            "grid_template_columns": null,
            "flex": null,
            "_model_name": "LayoutModel",
            "justify_items": null,
            "grid_row": null,
            "max_height": null,
            "align_content": null,
            "visibility": null,
            "align_self": null,
            "height": null,
            "min_height": null,
            "padding": null,
            "grid_auto_rows": null,
            "grid_gap": null,
            "max_width": null,
            "order": null,
            "_view_module_version": "1.2.0",
            "grid_template_areas": null,
            "object_position": null,
            "object_fit": null,
            "grid_auto_columns": null,
            "margin": null,
            "display": null,
            "left": null
          }
        },
        "c349d1d8a9b347228b5c749d6d8fb204": {
          "model_module": "@jupyter-widgets/controls",
          "model_name": "DescriptionStyleModel",
          "model_module_version": "1.5.0",
          "state": {
            "_view_name": "StyleView",
            "_model_name": "DescriptionStyleModel",
            "description_width": "",
            "_view_module": "@jupyter-widgets/base",
            "_model_module_version": "1.5.0",
            "_view_count": null,
            "_view_module_version": "1.2.0",
            "_model_module": "@jupyter-widgets/controls"
          }
        },
        "01d7f2aaaa33498da0b1bae6943dc776": {
          "model_module": "@jupyter-widgets/base",
          "model_name": "LayoutModel",
          "model_module_version": "1.2.0",
          "state": {
            "_view_name": "LayoutView",
            "grid_template_rows": null,
            "right": null,
            "justify_content": null,
            "_view_module": "@jupyter-widgets/base",
            "overflow": null,
            "_model_module_version": "1.2.0",
            "_view_count": null,
            "flex_flow": null,
            "width": null,
            "min_width": null,
            "border": null,
            "align_items": null,
            "bottom": null,
            "_model_module": "@jupyter-widgets/base",
            "top": null,
            "grid_column": null,
            "overflow_y": null,
            "overflow_x": null,
            "grid_auto_flow": null,
            "grid_area": null,
            "grid_template_columns": null,
            "flex": null,
            "_model_name": "LayoutModel",
            "justify_items": null,
            "grid_row": null,
            "max_height": null,
            "align_content": null,
            "visibility": null,
            "align_self": null,
            "height": null,
            "min_height": null,
            "padding": null,
            "grid_auto_rows": null,
            "grid_gap": null,
            "max_width": null,
            "order": null,
            "_view_module_version": "1.2.0",
            "grid_template_areas": null,
            "object_position": null,
            "object_fit": null,
            "grid_auto_columns": null,
            "margin": null,
            "display": null,
            "left": null
          }
        },
        "46af3c70c4c944ddbde0262b0f9e1689": {
          "model_module": "@jupyter-widgets/controls",
          "model_name": "HBoxModel",
          "model_module_version": "1.5.0",
          "state": {
            "_view_name": "HBoxView",
            "_dom_classes": [],
            "_model_name": "HBoxModel",
            "_view_module": "@jupyter-widgets/controls",
            "_model_module_version": "1.5.0",
            "_view_count": null,
            "_view_module_version": "1.5.0",
            "box_style": "",
            "layout": "IPY_MODEL_e52be2985b224632b3bc9249458815d7",
            "_model_module": "@jupyter-widgets/controls",
            "children": [
              "IPY_MODEL_8a0d3672e150457badbcc775647b8eb9",
              "IPY_MODEL_f2f862eddb17495aa6c68bc072455888",
              "IPY_MODEL_ceefdc695f1543828e46d438492308d2"
            ]
          }
        },
        "e52be2985b224632b3bc9249458815d7": {
          "model_module": "@jupyter-widgets/base",
          "model_name": "LayoutModel",
          "model_module_version": "1.2.0",
          "state": {
            "_view_name": "LayoutView",
            "grid_template_rows": null,
            "right": null,
            "justify_content": null,
            "_view_module": "@jupyter-widgets/base",
            "overflow": null,
            "_model_module_version": "1.2.0",
            "_view_count": null,
            "flex_flow": null,
            "width": null,
            "min_width": null,
            "border": null,
            "align_items": null,
            "bottom": null,
            "_model_module": "@jupyter-widgets/base",
            "top": null,
            "grid_column": null,
            "overflow_y": null,
            "overflow_x": null,
            "grid_auto_flow": null,
            "grid_area": null,
            "grid_template_columns": null,
            "flex": null,
            "_model_name": "LayoutModel",
            "justify_items": null,
            "grid_row": null,
            "max_height": null,
            "align_content": null,
            "visibility": null,
            "align_self": null,
            "height": null,
            "min_height": null,
            "padding": null,
            "grid_auto_rows": null,
            "grid_gap": null,
            "max_width": null,
            "order": null,
            "_view_module_version": "1.2.0",
            "grid_template_areas": null,
            "object_position": null,
            "object_fit": null,
            "grid_auto_columns": null,
            "margin": null,
            "display": null,
            "left": null
          }
        },
        "8a0d3672e150457badbcc775647b8eb9": {
          "model_module": "@jupyter-widgets/controls",
          "model_name": "HTMLModel",
          "model_module_version": "1.5.0",
          "state": {
            "_view_name": "HTMLView",
            "style": "IPY_MODEL_a58901587021494b95bd812a84e484e2",
            "_dom_classes": [],
            "description": "",
            "_model_name": "HTMLModel",
            "placeholder": "​",
            "_view_module": "@jupyter-widgets/controls",
            "_model_module_version": "1.5.0",
            "value": "",
            "_view_count": null,
            "_view_module_version": "1.5.0",
            "description_tooltip": null,
            "_model_module": "@jupyter-widgets/controls",
            "layout": "IPY_MODEL_57af96be30914978a1bc232e73df3abc"
          }
        },
        "f2f862eddb17495aa6c68bc072455888": {
          "model_module": "@jupyter-widgets/controls",
          "model_name": "FloatProgressModel",
          "model_module_version": "1.5.0",
          "state": {
            "_view_name": "ProgressView",
            "style": "IPY_MODEL_2674083d71994ce58a147ac0e8b22641",
            "_dom_classes": [],
            "description": "",
            "_model_name": "FloatProgressModel",
            "bar_style": "success",
            "max": 29515,
            "_view_module": "@jupyter-widgets/controls",
            "_model_module_version": "1.5.0",
            "value": 29515,
            "_view_count": null,
            "_view_module_version": "1.5.0",
            "orientation": "horizontal",
            "min": 0,
            "description_tooltip": null,
            "_model_module": "@jupyter-widgets/controls",
            "layout": "IPY_MODEL_b64c5af9d0b34f608c32c6b5a8d9ce81"
          }
        },
        "ceefdc695f1543828e46d438492308d2": {
          "model_module": "@jupyter-widgets/controls",
          "model_name": "HTMLModel",
          "model_module_version": "1.5.0",
          "state": {
            "_view_name": "HTMLView",
            "style": "IPY_MODEL_3db9cc1bf865405c99dd527b71b20d4c",
            "_dom_classes": [],
            "description": "",
            "_model_name": "HTMLModel",
            "placeholder": "​",
            "_view_module": "@jupyter-widgets/controls",
            "_model_module_version": "1.5.0",
            "value": " 29696/? [00:00&lt;00:00, 132931.14it/s]",
            "_view_count": null,
            "_view_module_version": "1.5.0",
            "description_tooltip": null,
            "_model_module": "@jupyter-widgets/controls",
            "layout": "IPY_MODEL_5ad79a1e270a4c67a868723d16f738a3"
          }
        },
        "a58901587021494b95bd812a84e484e2": {
          "model_module": "@jupyter-widgets/controls",
          "model_name": "DescriptionStyleModel",
          "model_module_version": "1.5.0",
          "state": {
            "_view_name": "StyleView",
            "_model_name": "DescriptionStyleModel",
            "description_width": "",
            "_view_module": "@jupyter-widgets/base",
            "_model_module_version": "1.5.0",
            "_view_count": null,
            "_view_module_version": "1.2.0",
            "_model_module": "@jupyter-widgets/controls"
          }
        },
        "57af96be30914978a1bc232e73df3abc": {
          "model_module": "@jupyter-widgets/base",
          "model_name": "LayoutModel",
          "model_module_version": "1.2.0",
          "state": {
            "_view_name": "LayoutView",
            "grid_template_rows": null,
            "right": null,
            "justify_content": null,
            "_view_module": "@jupyter-widgets/base",
            "overflow": null,
            "_model_module_version": "1.2.0",
            "_view_count": null,
            "flex_flow": null,
            "width": null,
            "min_width": null,
            "border": null,
            "align_items": null,
            "bottom": null,
            "_model_module": "@jupyter-widgets/base",
            "top": null,
            "grid_column": null,
            "overflow_y": null,
            "overflow_x": null,
            "grid_auto_flow": null,
            "grid_area": null,
            "grid_template_columns": null,
            "flex": null,
            "_model_name": "LayoutModel",
            "justify_items": null,
            "grid_row": null,
            "max_height": null,
            "align_content": null,
            "visibility": null,
            "align_self": null,
            "height": null,
            "min_height": null,
            "padding": null,
            "grid_auto_rows": null,
            "grid_gap": null,
            "max_width": null,
            "order": null,
            "_view_module_version": "1.2.0",
            "grid_template_areas": null,
            "object_position": null,
            "object_fit": null,
            "grid_auto_columns": null,
            "margin": null,
            "display": null,
            "left": null
          }
        },
        "2674083d71994ce58a147ac0e8b22641": {
          "model_module": "@jupyter-widgets/controls",
          "model_name": "ProgressStyleModel",
          "model_module_version": "1.5.0",
          "state": {
            "_view_name": "StyleView",
            "_model_name": "ProgressStyleModel",
            "description_width": "",
            "_view_module": "@jupyter-widgets/base",
            "_model_module_version": "1.5.0",
            "_view_count": null,
            "_view_module_version": "1.2.0",
            "bar_color": null,
            "_model_module": "@jupyter-widgets/controls"
          }
        },
        "b64c5af9d0b34f608c32c6b5a8d9ce81": {
          "model_module": "@jupyter-widgets/base",
          "model_name": "LayoutModel",
          "model_module_version": "1.2.0",
          "state": {
            "_view_name": "LayoutView",
            "grid_template_rows": null,
            "right": null,
            "justify_content": null,
            "_view_module": "@jupyter-widgets/base",
            "overflow": null,
            "_model_module_version": "1.2.0",
            "_view_count": null,
            "flex_flow": null,
            "width": null,
            "min_width": null,
            "border": null,
            "align_items": null,
            "bottom": null,
            "_model_module": "@jupyter-widgets/base",
            "top": null,
            "grid_column": null,
            "overflow_y": null,
            "overflow_x": null,
            "grid_auto_flow": null,
            "grid_area": null,
            "grid_template_columns": null,
            "flex": null,
            "_model_name": "LayoutModel",
            "justify_items": null,
            "grid_row": null,
            "max_height": null,
            "align_content": null,
            "visibility": null,
            "align_self": null,
            "height": null,
            "min_height": null,
            "padding": null,
            "grid_auto_rows": null,
            "grid_gap": null,
            "max_width": null,
            "order": null,
            "_view_module_version": "1.2.0",
            "grid_template_areas": null,
            "object_position": null,
            "object_fit": null,
            "grid_auto_columns": null,
            "margin": null,
            "display": null,
            "left": null
          }
        },
        "3db9cc1bf865405c99dd527b71b20d4c": {
          "model_module": "@jupyter-widgets/controls",
          "model_name": "DescriptionStyleModel",
          "model_module_version": "1.5.0",
          "state": {
            "_view_name": "StyleView",
            "_model_name": "DescriptionStyleModel",
            "description_width": "",
            "_view_module": "@jupyter-widgets/base",
            "_model_module_version": "1.5.0",
            "_view_count": null,
            "_view_module_version": "1.2.0",
            "_model_module": "@jupyter-widgets/controls"
          }
        },
        "5ad79a1e270a4c67a868723d16f738a3": {
          "model_module": "@jupyter-widgets/base",
          "model_name": "LayoutModel",
          "model_module_version": "1.2.0",
          "state": {
            "_view_name": "LayoutView",
            "grid_template_rows": null,
            "right": null,
            "justify_content": null,
            "_view_module": "@jupyter-widgets/base",
            "overflow": null,
            "_model_module_version": "1.2.0",
            "_view_count": null,
            "flex_flow": null,
            "width": null,
            "min_width": null,
            "border": null,
            "align_items": null,
            "bottom": null,
            "_model_module": "@jupyter-widgets/base",
            "top": null,
            "grid_column": null,
            "overflow_y": null,
            "overflow_x": null,
            "grid_auto_flow": null,
            "grid_area": null,
            "grid_template_columns": null,
            "flex": null,
            "_model_name": "LayoutModel",
            "justify_items": null,
            "grid_row": null,
            "max_height": null,
            "align_content": null,
            "visibility": null,
            "align_self": null,
            "height": null,
            "min_height": null,
            "padding": null,
            "grid_auto_rows": null,
            "grid_gap": null,
            "max_width": null,
            "order": null,
            "_view_module_version": "1.2.0",
            "grid_template_areas": null,
            "object_position": null,
            "object_fit": null,
            "grid_auto_columns": null,
            "margin": null,
            "display": null,
            "left": null
          }
        },
        "0dd1b80a7d404827af31d768a4465cca": {
          "model_module": "@jupyter-widgets/controls",
          "model_name": "HBoxModel",
          "model_module_version": "1.5.0",
          "state": {
            "_view_name": "HBoxView",
            "_dom_classes": [],
            "_model_name": "HBoxModel",
            "_view_module": "@jupyter-widgets/controls",
            "_model_module_version": "1.5.0",
            "_view_count": null,
            "_view_module_version": "1.5.0",
            "box_style": "",
            "layout": "IPY_MODEL_1e1ccffc51444a14b0e1b4c9cae1aaba",
            "_model_module": "@jupyter-widgets/controls",
            "children": [
              "IPY_MODEL_8fcdd1416a9f466f8fd6c195438a9345",
              "IPY_MODEL_f7fc4f50887347a2a7f3ab38775f69ce",
              "IPY_MODEL_43fe714e1ac6449c99db4f7e866d3520"
            ]
          }
        },
        "1e1ccffc51444a14b0e1b4c9cae1aaba": {
          "model_module": "@jupyter-widgets/base",
          "model_name": "LayoutModel",
          "model_module_version": "1.2.0",
          "state": {
            "_view_name": "LayoutView",
            "grid_template_rows": null,
            "right": null,
            "justify_content": null,
            "_view_module": "@jupyter-widgets/base",
            "overflow": null,
            "_model_module_version": "1.2.0",
            "_view_count": null,
            "flex_flow": null,
            "width": null,
            "min_width": null,
            "border": null,
            "align_items": null,
            "bottom": null,
            "_model_module": "@jupyter-widgets/base",
            "top": null,
            "grid_column": null,
            "overflow_y": null,
            "overflow_x": null,
            "grid_auto_flow": null,
            "grid_area": null,
            "grid_template_columns": null,
            "flex": null,
            "_model_name": "LayoutModel",
            "justify_items": null,
            "grid_row": null,
            "max_height": null,
            "align_content": null,
            "visibility": null,
            "align_self": null,
            "height": null,
            "min_height": null,
            "padding": null,
            "grid_auto_rows": null,
            "grid_gap": null,
            "max_width": null,
            "order": null,
            "_view_module_version": "1.2.0",
            "grid_template_areas": null,
            "object_position": null,
            "object_fit": null,
            "grid_auto_columns": null,
            "margin": null,
            "display": null,
            "left": null
          }
        },
        "8fcdd1416a9f466f8fd6c195438a9345": {
          "model_module": "@jupyter-widgets/controls",
          "model_name": "HTMLModel",
          "model_module_version": "1.5.0",
          "state": {
            "_view_name": "HTMLView",
            "style": "IPY_MODEL_a9e0588747cd40ccab020c0b5216f195",
            "_dom_classes": [],
            "description": "",
            "_model_name": "HTMLModel",
            "placeholder": "​",
            "_view_module": "@jupyter-widgets/controls",
            "_model_module_version": "1.5.0",
            "value": "",
            "_view_count": null,
            "_view_module_version": "1.5.0",
            "description_tooltip": null,
            "_model_module": "@jupyter-widgets/controls",
            "layout": "IPY_MODEL_e8b716d227f54499b705d4b3e81d49f7"
          }
        },
        "f7fc4f50887347a2a7f3ab38775f69ce": {
          "model_module": "@jupyter-widgets/controls",
          "model_name": "FloatProgressModel",
          "model_module_version": "1.5.0",
          "state": {
            "_view_name": "ProgressView",
            "style": "IPY_MODEL_1f76c5e486fb4036b211f354b83a1dae",
            "_dom_classes": [],
            "description": "",
            "_model_name": "FloatProgressModel",
            "bar_style": "success",
            "max": 4422102,
            "_view_module": "@jupyter-widgets/controls",
            "_model_module_version": "1.5.0",
            "value": 4422102,
            "_view_count": null,
            "_view_module_version": "1.5.0",
            "orientation": "horizontal",
            "min": 0,
            "description_tooltip": null,
            "_model_module": "@jupyter-widgets/controls",
            "layout": "IPY_MODEL_951ccbef28e34776aaa299a717dc6fc9"
          }
        },
        "43fe714e1ac6449c99db4f7e866d3520": {
          "model_module": "@jupyter-widgets/controls",
          "model_name": "HTMLModel",
          "model_module_version": "1.5.0",
          "state": {
            "_view_name": "HTMLView",
            "style": "IPY_MODEL_587bb4418fdf4bbc8aa559b685eca7a9",
            "_dom_classes": [],
            "description": "",
            "_model_name": "HTMLModel",
            "placeholder": "​",
            "_view_module": "@jupyter-widgets/controls",
            "_model_module_version": "1.5.0",
            "value": " 4422656/? [00:00&lt;00:00, 7398300.16it/s]",
            "_view_count": null,
            "_view_module_version": "1.5.0",
            "description_tooltip": null,
            "_model_module": "@jupyter-widgets/controls",
            "layout": "IPY_MODEL_4232b020fab14abe94bc1b394048151f"
          }
        },
        "a9e0588747cd40ccab020c0b5216f195": {
          "model_module": "@jupyter-widgets/controls",
          "model_name": "DescriptionStyleModel",
          "model_module_version": "1.5.0",
          "state": {
            "_view_name": "StyleView",
            "_model_name": "DescriptionStyleModel",
            "description_width": "",
            "_view_module": "@jupyter-widgets/base",
            "_model_module_version": "1.5.0",
            "_view_count": null,
            "_view_module_version": "1.2.0",
            "_model_module": "@jupyter-widgets/controls"
          }
        },
        "e8b716d227f54499b705d4b3e81d49f7": {
          "model_module": "@jupyter-widgets/base",
          "model_name": "LayoutModel",
          "model_module_version": "1.2.0",
          "state": {
            "_view_name": "LayoutView",
            "grid_template_rows": null,
            "right": null,
            "justify_content": null,
            "_view_module": "@jupyter-widgets/base",
            "overflow": null,
            "_model_module_version": "1.2.0",
            "_view_count": null,
            "flex_flow": null,
            "width": null,
            "min_width": null,
            "border": null,
            "align_items": null,
            "bottom": null,
            "_model_module": "@jupyter-widgets/base",
            "top": null,
            "grid_column": null,
            "overflow_y": null,
            "overflow_x": null,
            "grid_auto_flow": null,
            "grid_area": null,
            "grid_template_columns": null,
            "flex": null,
            "_model_name": "LayoutModel",
            "justify_items": null,
            "grid_row": null,
            "max_height": null,
            "align_content": null,
            "visibility": null,
            "align_self": null,
            "height": null,
            "min_height": null,
            "padding": null,
            "grid_auto_rows": null,
            "grid_gap": null,
            "max_width": null,
            "order": null,
            "_view_module_version": "1.2.0",
            "grid_template_areas": null,
            "object_position": null,
            "object_fit": null,
            "grid_auto_columns": null,
            "margin": null,
            "display": null,
            "left": null
          }
        },
        "1f76c5e486fb4036b211f354b83a1dae": {
          "model_module": "@jupyter-widgets/controls",
          "model_name": "ProgressStyleModel",
          "model_module_version": "1.5.0",
          "state": {
            "_view_name": "StyleView",
            "_model_name": "ProgressStyleModel",
            "description_width": "",
            "_view_module": "@jupyter-widgets/base",
            "_model_module_version": "1.5.0",
            "_view_count": null,
            "_view_module_version": "1.2.0",
            "bar_color": null,
            "_model_module": "@jupyter-widgets/controls"
          }
        },
        "951ccbef28e34776aaa299a717dc6fc9": {
          "model_module": "@jupyter-widgets/base",
          "model_name": "LayoutModel",
          "model_module_version": "1.2.0",
          "state": {
            "_view_name": "LayoutView",
            "grid_template_rows": null,
            "right": null,
            "justify_content": null,
            "_view_module": "@jupyter-widgets/base",
            "overflow": null,
            "_model_module_version": "1.2.0",
            "_view_count": null,
            "flex_flow": null,
            "width": null,
            "min_width": null,
            "border": null,
            "align_items": null,
            "bottom": null,
            "_model_module": "@jupyter-widgets/base",
            "top": null,
            "grid_column": null,
            "overflow_y": null,
            "overflow_x": null,
            "grid_auto_flow": null,
            "grid_area": null,
            "grid_template_columns": null,
            "flex": null,
            "_model_name": "LayoutModel",
            "justify_items": null,
            "grid_row": null,
            "max_height": null,
            "align_content": null,
            "visibility": null,
            "align_self": null,
            "height": null,
            "min_height": null,
            "padding": null,
            "grid_auto_rows": null,
            "grid_gap": null,
            "max_width": null,
            "order": null,
            "_view_module_version": "1.2.0",
            "grid_template_areas": null,
            "object_position": null,
            "object_fit": null,
            "grid_auto_columns": null,
            "margin": null,
            "display": null,
            "left": null
          }
        },
        "587bb4418fdf4bbc8aa559b685eca7a9": {
          "model_module": "@jupyter-widgets/controls",
          "model_name": "DescriptionStyleModel",
          "model_module_version": "1.5.0",
          "state": {
            "_view_name": "StyleView",
            "_model_name": "DescriptionStyleModel",
            "description_width": "",
            "_view_module": "@jupyter-widgets/base",
            "_model_module_version": "1.5.0",
            "_view_count": null,
            "_view_module_version": "1.2.0",
            "_model_module": "@jupyter-widgets/controls"
          }
        },
        "4232b020fab14abe94bc1b394048151f": {
          "model_module": "@jupyter-widgets/base",
          "model_name": "LayoutModel",
          "model_module_version": "1.2.0",
          "state": {
            "_view_name": "LayoutView",
            "grid_template_rows": null,
            "right": null,
            "justify_content": null,
            "_view_module": "@jupyter-widgets/base",
            "overflow": null,
            "_model_module_version": "1.2.0",
            "_view_count": null,
            "flex_flow": null,
            "width": null,
            "min_width": null,
            "border": null,
            "align_items": null,
            "bottom": null,
            "_model_module": "@jupyter-widgets/base",
            "top": null,
            "grid_column": null,
            "overflow_y": null,
            "overflow_x": null,
            "grid_auto_flow": null,
            "grid_area": null,
            "grid_template_columns": null,
            "flex": null,
            "_model_name": "LayoutModel",
            "justify_items": null,
            "grid_row": null,
            "max_height": null,
            "align_content": null,
            "visibility": null,
            "align_self": null,
            "height": null,
            "min_height": null,
            "padding": null,
            "grid_auto_rows": null,
            "grid_gap": null,
            "max_width": null,
            "order": null,
            "_view_module_version": "1.2.0",
            "grid_template_areas": null,
            "object_position": null,
            "object_fit": null,
            "grid_auto_columns": null,
            "margin": null,
            "display": null,
            "left": null
          }
        },
        "0ab4a869e1ac457a9e946e1290a89701": {
          "model_module": "@jupyter-widgets/controls",
          "model_name": "HBoxModel",
          "model_module_version": "1.5.0",
          "state": {
            "_view_name": "HBoxView",
            "_dom_classes": [],
            "_model_name": "HBoxModel",
            "_view_module": "@jupyter-widgets/controls",
            "_model_module_version": "1.5.0",
            "_view_count": null,
            "_view_module_version": "1.5.0",
            "box_style": "",
            "layout": "IPY_MODEL_3dbcee6346c647988656e15337e78654",
            "_model_module": "@jupyter-widgets/controls",
            "children": [
              "IPY_MODEL_2bb7d8dc3aa94d1e880ac408040ab01d",
              "IPY_MODEL_3d5f4d8bb4bc450099d902ab9fad6dd7",
              "IPY_MODEL_fbc0dfd2917142f3adf7af5c05118848"
            ]
          }
        },
        "3dbcee6346c647988656e15337e78654": {
          "model_module": "@jupyter-widgets/base",
          "model_name": "LayoutModel",
          "model_module_version": "1.2.0",
          "state": {
            "_view_name": "LayoutView",
            "grid_template_rows": null,
            "right": null,
            "justify_content": null,
            "_view_module": "@jupyter-widgets/base",
            "overflow": null,
            "_model_module_version": "1.2.0",
            "_view_count": null,
            "flex_flow": null,
            "width": null,
            "min_width": null,
            "border": null,
            "align_items": null,
            "bottom": null,
            "_model_module": "@jupyter-widgets/base",
            "top": null,
            "grid_column": null,
            "overflow_y": null,
            "overflow_x": null,
            "grid_auto_flow": null,
            "grid_area": null,
            "grid_template_columns": null,
            "flex": null,
            "_model_name": "LayoutModel",
            "justify_items": null,
            "grid_row": null,
            "max_height": null,
            "align_content": null,
            "visibility": null,
            "align_self": null,
            "height": null,
            "min_height": null,
            "padding": null,
            "grid_auto_rows": null,
            "grid_gap": null,
            "max_width": null,
            "order": null,
            "_view_module_version": "1.2.0",
            "grid_template_areas": null,
            "object_position": null,
            "object_fit": null,
            "grid_auto_columns": null,
            "margin": null,
            "display": null,
            "left": null
          }
        },
        "2bb7d8dc3aa94d1e880ac408040ab01d": {
          "model_module": "@jupyter-widgets/controls",
          "model_name": "HTMLModel",
          "model_module_version": "1.5.0",
          "state": {
            "_view_name": "HTMLView",
            "style": "IPY_MODEL_400ff42d7aae49fea65df526368f31c6",
            "_dom_classes": [],
            "description": "",
            "_model_name": "HTMLModel",
            "placeholder": "​",
            "_view_module": "@jupyter-widgets/controls",
            "_model_module_version": "1.5.0",
            "value": "",
            "_view_count": null,
            "_view_module_version": "1.5.0",
            "description_tooltip": null,
            "_model_module": "@jupyter-widgets/controls",
            "layout": "IPY_MODEL_e0851b9d15704233a29dc516122ba3c4"
          }
        },
        "3d5f4d8bb4bc450099d902ab9fad6dd7": {
          "model_module": "@jupyter-widgets/controls",
          "model_name": "FloatProgressModel",
          "model_module_version": "1.5.0",
          "state": {
            "_view_name": "ProgressView",
            "style": "IPY_MODEL_98d97314693f4114a367a2fb7ebf2a15",
            "_dom_classes": [],
            "description": "",
            "_model_name": "FloatProgressModel",
            "bar_style": "success",
            "max": 5148,
            "_view_module": "@jupyter-widgets/controls",
            "_model_module_version": "1.5.0",
            "value": 5148,
            "_view_count": null,
            "_view_module_version": "1.5.0",
            "orientation": "horizontal",
            "min": 0,
            "description_tooltip": null,
            "_model_module": "@jupyter-widgets/controls",
            "layout": "IPY_MODEL_b21329f6118c4988b56c6102ca2bb18d"
          }
        },
        "fbc0dfd2917142f3adf7af5c05118848": {
          "model_module": "@jupyter-widgets/controls",
          "model_name": "HTMLModel",
          "model_module_version": "1.5.0",
          "state": {
            "_view_name": "HTMLView",
            "style": "IPY_MODEL_1441fb6426db414c92502736403aa6ac",
            "_dom_classes": [],
            "description": "",
            "_model_name": "HTMLModel",
            "placeholder": "​",
            "_view_module": "@jupyter-widgets/controls",
            "_model_module_version": "1.5.0",
            "value": " 6144/? [00:00&lt;00:00, 117443.49it/s]",
            "_view_count": null,
            "_view_module_version": "1.5.0",
            "description_tooltip": null,
            "_model_module": "@jupyter-widgets/controls",
            "layout": "IPY_MODEL_4a49f698a0bf4839830c451e53092fd9"
          }
        },
        "400ff42d7aae49fea65df526368f31c6": {
          "model_module": "@jupyter-widgets/controls",
          "model_name": "DescriptionStyleModel",
          "model_module_version": "1.5.0",
          "state": {
            "_view_name": "StyleView",
            "_model_name": "DescriptionStyleModel",
            "description_width": "",
            "_view_module": "@jupyter-widgets/base",
            "_model_module_version": "1.5.0",
            "_view_count": null,
            "_view_module_version": "1.2.0",
            "_model_module": "@jupyter-widgets/controls"
          }
        },
        "e0851b9d15704233a29dc516122ba3c4": {
          "model_module": "@jupyter-widgets/base",
          "model_name": "LayoutModel",
          "model_module_version": "1.2.0",
          "state": {
            "_view_name": "LayoutView",
            "grid_template_rows": null,
            "right": null,
            "justify_content": null,
            "_view_module": "@jupyter-widgets/base",
            "overflow": null,
            "_model_module_version": "1.2.0",
            "_view_count": null,
            "flex_flow": null,
            "width": null,
            "min_width": null,
            "border": null,
            "align_items": null,
            "bottom": null,
            "_model_module": "@jupyter-widgets/base",
            "top": null,
            "grid_column": null,
            "overflow_y": null,
            "overflow_x": null,
            "grid_auto_flow": null,
            "grid_area": null,
            "grid_template_columns": null,
            "flex": null,
            "_model_name": "LayoutModel",
            "justify_items": null,
            "grid_row": null,
            "max_height": null,
            "align_content": null,
            "visibility": null,
            "align_self": null,
            "height": null,
            "min_height": null,
            "padding": null,
            "grid_auto_rows": null,
            "grid_gap": null,
            "max_width": null,
            "order": null,
            "_view_module_version": "1.2.0",
            "grid_template_areas": null,
            "object_position": null,
            "object_fit": null,
            "grid_auto_columns": null,
            "margin": null,
            "display": null,
            "left": null
          }
        },
        "98d97314693f4114a367a2fb7ebf2a15": {
          "model_module": "@jupyter-widgets/controls",
          "model_name": "ProgressStyleModel",
          "model_module_version": "1.5.0",
          "state": {
            "_view_name": "StyleView",
            "_model_name": "ProgressStyleModel",
            "description_width": "",
            "_view_module": "@jupyter-widgets/base",
            "_model_module_version": "1.5.0",
            "_view_count": null,
            "_view_module_version": "1.2.0",
            "bar_color": null,
            "_model_module": "@jupyter-widgets/controls"
          }
        },
        "b21329f6118c4988b56c6102ca2bb18d": {
          "model_module": "@jupyter-widgets/base",
          "model_name": "LayoutModel",
          "model_module_version": "1.2.0",
          "state": {
            "_view_name": "LayoutView",
            "grid_template_rows": null,
            "right": null,
            "justify_content": null,
            "_view_module": "@jupyter-widgets/base",
            "overflow": null,
            "_model_module_version": "1.2.0",
            "_view_count": null,
            "flex_flow": null,
            "width": null,
            "min_width": null,
            "border": null,
            "align_items": null,
            "bottom": null,
            "_model_module": "@jupyter-widgets/base",
            "top": null,
            "grid_column": null,
            "overflow_y": null,
            "overflow_x": null,
            "grid_auto_flow": null,
            "grid_area": null,
            "grid_template_columns": null,
            "flex": null,
            "_model_name": "LayoutModel",
            "justify_items": null,
            "grid_row": null,
            "max_height": null,
            "align_content": null,
            "visibility": null,
            "align_self": null,
            "height": null,
            "min_height": null,
            "padding": null,
            "grid_auto_rows": null,
            "grid_gap": null,
            "max_width": null,
            "order": null,
            "_view_module_version": "1.2.0",
            "grid_template_areas": null,
            "object_position": null,
            "object_fit": null,
            "grid_auto_columns": null,
            "margin": null,
            "display": null,
            "left": null
          }
        },
        "1441fb6426db414c92502736403aa6ac": {
          "model_module": "@jupyter-widgets/controls",
          "model_name": "DescriptionStyleModel",
          "model_module_version": "1.5.0",
          "state": {
            "_view_name": "StyleView",
            "_model_name": "DescriptionStyleModel",
            "description_width": "",
            "_view_module": "@jupyter-widgets/base",
            "_model_module_version": "1.5.0",
            "_view_count": null,
            "_view_module_version": "1.2.0",
            "_model_module": "@jupyter-widgets/controls"
          }
        },
        "4a49f698a0bf4839830c451e53092fd9": {
          "model_module": "@jupyter-widgets/base",
          "model_name": "LayoutModel",
          "model_module_version": "1.2.0",
          "state": {
            "_view_name": "LayoutView",
            "grid_template_rows": null,
            "right": null,
            "justify_content": null,
            "_view_module": "@jupyter-widgets/base",
            "overflow": null,
            "_model_module_version": "1.2.0",
            "_view_count": null,
            "flex_flow": null,
            "width": null,
            "min_width": null,
            "border": null,
            "align_items": null,
            "bottom": null,
            "_model_module": "@jupyter-widgets/base",
            "top": null,
            "grid_column": null,
            "overflow_y": null,
            "overflow_x": null,
            "grid_auto_flow": null,
            "grid_area": null,
            "grid_template_columns": null,
            "flex": null,
            "_model_name": "LayoutModel",
            "justify_items": null,
            "grid_row": null,
            "max_height": null,
            "align_content": null,
            "visibility": null,
            "align_self": null,
            "height": null,
            "min_height": null,
            "padding": null,
            "grid_auto_rows": null,
            "grid_gap": null,
            "max_width": null,
            "order": null,
            "_view_module_version": "1.2.0",
            "grid_template_areas": null,
            "object_position": null,
            "object_fit": null,
            "grid_auto_columns": null,
            "margin": null,
            "display": null,
            "left": null
          }
        }
      }
    }
  },
  "nbformat": 4,
  "nbformat_minor": 0
}
